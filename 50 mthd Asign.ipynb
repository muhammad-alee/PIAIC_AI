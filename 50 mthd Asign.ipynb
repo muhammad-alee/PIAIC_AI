{
 "cells": [
  {
   "cell_type": "code",
   "execution_count": 1,
   "metadata": {},
   "outputs": [
    {
     "name": "stdout",
     "output_type": "stream",
     "text": [
      "[1 5 4 3 7 6]\n",
      "----------\n",
      "[[1 2 3]\n",
      " [7 5 6]]\n",
      "----------\n",
      "[[[ 1  8  4]\n",
      "  [ 4  5  9]]\n",
      "\n",
      " [[ 3  2  6]\n",
      "  [12 10 14]]]\n"
     ]
    }
   ],
   "source": [
    "# 1 create array np.array() function.\n",
    "import numpy as np\n",
    " \n",
    "array1d = np.array([1, 5, 4, 3, 7, 6])\n",
    "array2d = np.array([[1, 2, 3], [7, 5, 6]])\n",
    "array3d = np.array([[[1, 8, 4], [4, 5, 9]], [[3, 2, 6], [12, 10, 14]]])\n",
    " \n",
    "print(array1d)\n",
    " \n",
    "print(\"-\" * 10)\n",
    "print(array2d)\n",
    " \n",
    "print(\"-\" * 10)\n",
    "print(array3d)"
   ]
  },
  {
   "cell_type": "code",
   "execution_count": 3,
   "metadata": {},
   "outputs": [
    {
     "name": "stdout",
     "output_type": "stream",
     "text": [
      "int32\n",
      "float64\n",
      "<U1\n"
     ]
    }
   ],
   "source": [
    "import numpy as np\n",
    "# 2 \n",
    "type1 = np.array([1, 8, 5, 4, 6, 9])\n",
    "type2 = np.array([3.5, 4.5, 2.5, 7])\n",
    "type3 = np.array(['a', 'b', 'c'])\n",
    "\n",
    "print(type1.dtype)\n",
    "print(type2.dtype)\n",
    "print(type3.dtype)"
   ]
  },
  {
   "cell_type": "code",
   "execution_count": 4,
   "metadata": {},
   "outputs": [
    {
     "name": "stdout",
     "output_type": "stream",
     "text": [
      "(6,)\n",
      "(2, 3)\n",
      "(2, 2, 3)\n"
     ]
    }
   ],
   "source": [
    "import numpy as np\n",
    " # 3, 4 The shape method determines the shape of NumPy array in form of (m, n) i.e (no. of rows) x (no. of columns).\n",
    "arr1d = np.array([11, 22, 34, 43, 52, 61])\n",
    "arr2d = np.array([[1, 24, 37], [46, 54, 63]])\n",
    "arr3d = np.array([[[14, 52, 36], [47, 55, 64]], [[73, 82, 93], [16, 19, 12]]])\n",
    " \n",
    "print(arr1d.shape)\n",
    "print(arr2d.shape)\n",
    "print(arr3d.shape)"
   ]
  },
  {
   "cell_type": "code",
   "execution_count": 6,
   "metadata": {},
   "outputs": [
    {
     "name": "stdout",
     "output_type": "stream",
     "text": [
      "1\n",
      "2\n",
      "3\n"
     ]
    }
   ],
   "source": [
    "import numpy as np\n",
    "\n",
    " \n",
    "#5 The ndim method determines the dimension of NumPy array.\n",
    "arry1d = np.array([15, 23, 32, 34, 25, 6])\n",
    "print(arry1d.ndim) \n",
    " \n",
    "arry2d = np.array([[81, 22, 7], [34, 45, 66]])\n",
    "print(arry2d.ndim) \n",
    " \n",
    "arry3d = np.array([15, 26, 3, 4, 53, 61, 73, 8, 98, 15, 12, 19])\n",
    "arry3d = arry3d.reshape(2, 3, 2)\n",
    "print(arry3d.ndim)"
   ]
  },
  {
   "cell_type": "code",
   "execution_count": 7,
   "metadata": {},
   "outputs": [
    {
     "name": "stdout",
     "output_type": "stream",
     "text": [
      "[1 2 3 4]\n",
      "----------\n",
      "[[1 2 3 4]\n",
      " [5 6 7 8]]\n"
     ]
    }
   ],
   "source": [
    "import numpy as np\n",
    "\n",
    "# 6 The resize() method modifies existing shape and array itself.\n",
    "thearay = np.array([1, 2, 3, 4, 5, 6, 7, 8])\n",
    "thearay.resize(4)\n",
    "print(thearay)\n",
    " \n",
    "print(\"-\" * 10)\n",
    "thearay = np.array([1, 2, 3, 4, 5, 6, 7, 8])\n",
    "thearay.resize(2, 4)\n",
    "print(thearay)\n",
    " "
   ]
  },
  {
   "cell_type": "code",
   "execution_count": 9,
   "metadata": {},
   "outputs": [
    {
     "name": "stdout",
     "output_type": "stream",
     "text": [
      "[[4 2 1 6]\n",
      " [8 9 1 0]]\n",
      "----------\n",
      "[[4 2]\n",
      " [1 6]\n",
      " [8 9]\n",
      " [1 0]]\n"
     ]
    }
   ],
   "source": [
    "import numpy as np\n",
    "\n",
    "# 7 reshape () method modifies existing shape but original array remains unchanged.\n",
    "tarray = np.array([4, 2, 1, 6, 8, 9, 1, 0])\n",
    "tarray = tarray.reshape(2, 4)\n",
    "print(tarray)\n",
    " \n",
    "print(\"-\" * 10)\n",
    "tarray = tarray.reshape(4, 2)\n",
    "print(tarray)"
   ]
  },
  {
   "cell_type": "code",
   "execution_count": 11,
   "metadata": {},
   "outputs": [
    {
     "name": "stdout",
     "output_type": "stream",
     "text": [
      "<class 'tuple'>\n",
      "[[9 7 0]]\n"
     ]
    }
   ],
   "source": [
    "import numpy as np\n",
    " #8 The array() function can accept lists, tuples and other numpy.ndarray objects also to create new array object.\n",
    "ttuple = ((9, 7, 0))\n",
    "print(type(ttuple))\n",
    "arry = np.array([ttuple])\n",
    "print(arry)"
   ]
  },
  {
   "cell_type": "code",
   "execution_count": 14,
   "metadata": {},
   "outputs": [
    {
     "name": "stdout",
     "output_type": "stream",
     "text": [
      "[0 1 2 3 4]\n",
      "[[ 0  2  4]\n",
      " [ 6  8 10]]\n"
     ]
    }
   ],
   "source": [
    "import numpy as np\n",
    "\n",
    "#9 The arange() function creates an array with evenly spaced values between the specified start, end, and increment values.\n",
    "aray1d = np.arange(5)  \n",
    "print(array1d)\n",
    "aray2d = np.arange(0, 12, 2).reshape(2, 3)  \n",
    "print(aray2d)"
   ]
  },
  {
   "cell_type": "code",
   "execution_count": 15,
   "metadata": {},
   "outputs": [
    {
     "name": "stdout",
     "output_type": "stream",
     "text": [
      "[ 1. 12.]\n",
      "[[ 1.  2.  3.]\n",
      " [ 4.  5.  6.]\n",
      " [ 7.  8.  9.]\n",
      " [10. 11. 12.]]\n"
     ]
    }
   ],
   "source": [
    "import numpy as np\n",
    "#10 The linspace() function generates an array with evenly space\n",
    "\n",
    "arry = np.linspace(1, 12, 2)\n",
    "print(arry)\n",
    "arry = np.linspace(1, 12, 12).reshape(4, 3)\n",
    "print(arry)"
   ]
  },
  {
   "cell_type": "code",
   "execution_count": 17,
   "metadata": {},
   "outputs": [
    {
     "name": "stdout",
     "output_type": "stream",
     "text": [
      "[1.00000000e+28 3.16227766e+31 1.00000000e+35 3.16227766e+38\n",
      " 1.00000000e+42 3.16227766e+45 1.00000000e+49 3.16227766e+52\n",
      " 1.00000000e+56 3.16227766e+59 1.00000000e+63]\n"
     ]
    }
   ],
   "source": [
    "import numpy as np\n",
    "# 11 The logspace() function, generates an array with values that are logarithmical.\n",
    "\n",
    "tarray = np.logspace(4, 9, num=11, base=10000000.0, dtype=float)\n",
    "print(tarray)"
   ]
  },
  {
   "cell_type": "code",
   "execution_count": 18,
   "metadata": {},
   "outputs": [
    {
     "name": "stdout",
     "output_type": "stream",
     "text": [
      "[0. 0. 0. 0. 0. 0.]\n",
      "[[0. 0.]\n",
      " [0. 0.]\n",
      " [0. 0.]\n",
      " [0. 0.]]\n"
     ]
    }
   ],
   "source": [
    "import numpy as np\n",
    "# 12 The zeros() function, generates an array with the specified dimensions and data type that is filled with zeros.\n",
    "\n",
    "aray = np.zeros(6)\n",
    "print(aray)\n",
    " \n",
    "aray1 = np.zeros((4, 2))\n",
    "print(aray1)"
   ]
  },
  {
   "cell_type": "code",
   "execution_count": 20,
   "metadata": {},
   "outputs": [
    {
     "name": "stdout",
     "output_type": "stream",
     "text": [
      "[1. 1. 1. 1. 1.]\n",
      "[[1. 1. 1. 1.]\n",
      " [1. 1. 1. 1.]\n",
      " [1. 1. 1. 1.]\n",
      " [1. 1. 1. 1.]\n",
      " [1. 1. 1. 1.]]\n"
     ]
    }
   ],
   "source": [
    "import numpy as np\n",
    "#13 The ones() function, generates an array with the specified dimensions and data type that is filled with ones. \n",
    "\n",
    "ary = np.ones(5)\n",
    "print(ary)\n",
    " \n",
    "ary1 = np.ones((5, 4))\n",
    "print(ary1)"
   ]
  },
  {
   "cell_type": "code",
   "execution_count": 22,
   "metadata": {},
   "outputs": [
    {
     "name": "stdout",
     "output_type": "stream",
     "text": [
      "[8 8 8]\n"
     ]
    }
   ],
   "source": [
    "import numpy as np\n",
    "#14 generates an array with the specified dimensions and data type that is filled with specified number.\n",
    "\n",
    "arrayd = np.full((3), 8)\n",
    "print(arrayd)"
   ]
  },
  {
   "cell_type": "code",
   "execution_count": 23,
   "metadata": {},
   "outputs": [
    {
     "name": "stdout",
     "output_type": "stream",
     "text": [
      "[[1 0 0 0]\n",
      " [0 1 0 0]\n",
      " [0 0 1 0]\n",
      " [0 0 0 1]]\n"
     ]
    }
   ],
   "source": [
    "import numpy as np\n",
    "\n",
    "#15 The eye() function, returns an array where all elements are equal to zero, except for the k-th diagonal,\n",
    "aray1 = np.eye(4, dtype=int)\n",
    "print(aray1)"
   ]
  },
  {
   "cell_type": "code",
   "execution_count": 26,
   "metadata": {},
   "outputs": [
    {
     "name": "stdout",
     "output_type": "stream",
     "text": [
      "[[0.29859107 0.39530689]]\n",
      "[[-1.29301494  0.1791978  -1.32302451]\n",
      " [ 0.06980506 -0.27637665  0.08596766]]\n",
      "[4 4 3 5 8 8]\n",
      "[[0 0 1 3 1 3]\n",
      " [0 2 1 1 0 1]\n",
      " [1 4 2 3 4 3]\n",
      " [2 2 4 1 0 0]]\n"
     ]
    }
   ],
   "source": [
    "import numpy as np\n",
    "#16, 17, 18 \n",
    "print(np.random.rand(1, 2))  # Uniformly distributed values.\n",
    "print(np.random.randn(2, 3))  # Normally distributed values.\n",
    " \n",
    "# Uniformly distributed integers in a given range.\n",
    "print(np.random.randint(9, size=6))\n",
    "print(np.random.randint(5, size=(4, 6)))"
   ]
  },
  {
   "cell_type": "code",
   "execution_count": 27,
   "metadata": {},
   "outputs": [
    {
     "name": "stdout",
     "output_type": "stream",
     "text": [
      "[[1. 0. 0. 0.]\n",
      " [0. 1. 0. 0.]\n",
      " [0. 0. 1. 0.]\n",
      " [0. 0. 0. 1.]]\n",
      "[[0 0 0 0]\n",
      " [0 2 0 0]\n",
      " [0 0 4 0]\n",
      " [0 0 0 6]]\n"
     ]
    }
   ],
   "source": [
    "import numpy as np\n",
    " \n",
    "# 19, 20 The identity() function, generates square array with ones on the main diagonal \n",
    "# whereas diag() function extract or construct diagonal array.\n",
    "print(np.identity(4))\n",
    " \n",
    "print(np.diag(np.arange(0, 8, 2)))"
   ]
  },
  {
   "cell_type": "code",
   "execution_count": 28,
   "metadata": {},
   "outputs": [
    {
     "name": "stdout",
     "output_type": "stream",
     "text": [
      "[[11 32 63]\n",
      " [84 75 65]\n",
      " [47 38 96]]\n",
      "----------\n",
      "[[11 84 47]\n",
      " [32 75 38]\n",
      " [63 65 96]]\n",
      "----------\n",
      "[[63 32 11]\n",
      " [65 75 84]\n",
      " [96 38 47]]\n",
      "----------\n",
      "[[47 38 96]\n",
      " [84 75 65]\n",
      " [11 32 63]]\n",
      "----------\n",
      "[[63 65 96]\n",
      " [32 75 38]\n",
      " [11 84 47]]\n"
     ]
    }
   ],
   "source": [
    "import numpy as np\n",
    " \n",
    "array2d = np.array([[11, 32, 63], [84, 75, 65], [47, 38, 96]])\n",
    "print(array2d)\n",
    " \n",
    "print(\"-\" * 10)\n",
    " \n",
    "# 21 Permute the dimensions of an array.\n",
    "arrayT = np.transpose(array2d)\n",
    "print(arrayT)\n",
    " \n",
    "print(\"-\" * 10)\n",
    " \n",
    "#22 Flip array in the left/right direction.\n",
    "arrayFlr = np.fliplr(array2d)\n",
    "print(arrayFlr)\n",
    " \n",
    "print(\"-\" * 10)\n",
    " \n",
    "#23 Flip array in the up/down direction.\n",
    "arrayFud = np.flipud(array2d)\n",
    "print(arrayFud)\n",
    " \n",
    "print(\"-\" * 10)\n",
    " \n",
    "#24 Rotate an array by 90 degrees in the plane specified by axes.\n",
    "arrayRot90 = np.rot90(array2d)\n",
    "print(arrayRot90)"
   ]
  },
  {
   "cell_type": "code",
   "execution_count": 30,
   "metadata": {},
   "outputs": [
    {
     "name": "stdout",
     "output_type": "stream",
     "text": [
      "[[ 4  2  1  0  3  5]\n",
      " [ 6  8  9 18 16 19]]\n",
      "---------------\n",
      "[[ 4  2  1]\n",
      " [ 6  8  9]\n",
      " [ 0  3  5]\n",
      " [18 16 19]]\n",
      "---------------\n",
      "[[[ 4  0]\n",
      "  [ 2  3]\n",
      "  [ 1  5]]\n",
      "\n",
      " [[ 6 18]\n",
      "  [ 8 16]\n",
      "  [ 9 19]]]\n",
      "---------------\n",
      "[[ 4  2  1]\n",
      " [ 6  8  9]\n",
      " [ 0  3  5]\n",
      " [18 16 19]]\n",
      "---------------\n",
      "[[ 4  2  1]\n",
      " [ 6  8  9]\n",
      " [ 0  3  5]\n",
      " [18 16 19]]\n",
      "---------------\n",
      "[[ 4  2  1  0  3  5]\n",
      " [ 6  8  9 18 16 19]]\n"
     ]
    }
   ],
   "source": [
    "import numpy as np\n",
    " \n",
    "array1 = np.array([[4, 2, 1], [6, 8, 9]])\n",
    "array2 = np.array([[0, 3, 5], [18, 16, 19]])\n",
    " \n",
    "#25 Stack arrays in sequence horizontally (column wise).\n",
    "arrayH = np.hstack((array1, array2))\n",
    "print(arrayH)\n",
    " \n",
    "print(\"-\" * 15)\n",
    " \n",
    "#26 Stack arrays in sequence vertically (row wise).\n",
    "arrayV = np.vstack((array1, array2))\n",
    "print(arrayV)\n",
    " \n",
    "print(\"-\" * 15)\n",
    " \n",
    "#27 Stack arrays in sequence depth wise (along third axis).\n",
    "arrayD = np.dstack((array1, array2))\n",
    "print(arrayD)\n",
    " \n",
    "print(\"-\" * 15)\n",
    " \n",
    "#28 Appending arrays after each other, along a given axis.\n",
    "arrayC = np.concatenate((array1, array2))\n",
    "print(arrayC)\n",
    " \n",
    "print(\"-\" * 15)\n",
    " \n",
    "#29 Append values to the end of an array.\n",
    "arrayA = np.append(array1, array2, axis=0)\n",
    "print(arrayA)\n",
    " \n",
    "print(\"-\" * 15)\n",
    "arrayA = np.append(array1, array2, axis=1)\n",
    "print(arrayA)"
   ]
  },
  {
   "cell_type": "code",
   "execution_count": 2,
   "metadata": {},
   "outputs": [
    {
     "name": "stdout",
     "output_type": "stream",
     "text": [
      "[[21 20 20]\n",
      " [16 21 20]]\n",
      "--------------------\n",
      "[[-13 -16 -18]\n",
      " [-10 -11  -2]]\n",
      "--------------------\n",
      "[[68 36 19]\n",
      " [39 80 99]]\n",
      "--------------------\n",
      "[[ 4.25        9.         19.        ]\n",
      " [ 4.33333333  3.2         1.22222222]]\n",
      "----------------------------------------\n",
      "[[          0      262144           1]\n",
      " [    1594323 -2030932031  1316288537]]\n",
      "----------------------------------------\n"
     ]
    }
   ],
   "source": [
    "import numpy as np\n",
    " \n",
    "array1d = np.array([[4, 2, 1], [3, 5, 9]])\n",
    "array2d = np.array([[17, 18, 19], [13, 16, 11]])\n",
    "# 30 \n",
    "print(array1d + array2d)\n",
    "print(\"-\" * 20)\n",
    "# 31 \n",
    "print(array1d - array2d)\n",
    "print(\"-\" * 20)\n",
    "# 32 \n",
    "print(array1d * array2d)\n",
    "print(\"-\" * 20)\n",
    "# 33 \n",
    "print(array2d / array1d)\n",
    "print(\"-\" * 40)\n",
    "# 34 \n",
    "print(array1d ** array2d)\n",
    "print(\"-\" * 40)"
   ]
  },
  {
   "cell_type": "code",
   "execution_count": 5,
   "metadata": {},
   "outputs": [
    {
     "name": "stdout",
     "output_type": "stream",
     "text": [
      "[[14 25 36]\n",
      " [47 57 68]]\n",
      "--------------------\n",
      "[[ 4 15 26]\n",
      " [37 47 58]]\n",
      "--------------------\n"
     ]
    }
   ],
   "source": [
    "import numpy as np\n",
    "# 35 \n",
    "array1 = np.array([[11, 22, 33], [44, 54, 65]])\n",
    " \n",
    "print(array1 + 3)\n",
    "print(\"-\" * 20)\n",
    "# 36\n",
    "print(array1 - 7)\n",
    "print(\"-\" * 20)"
   ]
  },
  {
   "cell_type": "code",
   "execution_count": 7,
   "metadata": {},
   "outputs": [
    {
     "name": "stdout",
     "output_type": "stream",
     "text": [
      "[[-0.53657292 -0.8462204   0.52908269]\n",
      " [ 0.90178835  0.43616476 -0.89792768]]\n",
      "----------------------------------------\n",
      "[[ 0.84385396 -0.53283302 -0.84857027]\n",
      " [-0.43217794  0.89986683  0.44014302]]\n",
      "----------------------------------------\n",
      "[[-0.63585993  1.58815308 -0.62349896]\n",
      " [-2.08661353  0.48469923 -2.0400816 ]]\n",
      "----------------------------------------\n",
      "[[3.46410162 4.79583152 5.83095189]\n",
      " [6.78232998 7.54983444 8.24621125]]\n",
      "----------------------------------------\n",
      "[[1.62754791e+05 9.74480345e+09 5.83461743e+14]\n",
      " [9.49611942e+19 5.68572000e+24 3.40427605e+29]]\n",
      "----------------------------------------\n",
      "[[1.07918125 1.36172784 1.53147892]\n",
      " [1.66275783 1.75587486 1.83250891]]\n",
      "----------------------------------------\n"
     ]
    }
   ],
   "source": [
    "import numpy as np\n",
    " \n",
    "arry1 = np.array([[12, 23, 34], [46, 57, 68]])\n",
    "# 37 \n",
    "print(np.sin(arry1))\n",
    "print(\"-\" * 40)\n",
    "# 38 \n",
    "print(np.cos(arry1))\n",
    "print(\"-\" * 40)\n",
    "# 39 \n",
    "print(np.tan(arry1))\n",
    "print(\"-\" * 40)\n",
    "# 40  \n",
    "print(np.sqrt(arry1))\n",
    "print(\"-\" * 40)\n",
    "# 41 \n",
    "print(np.exp(arry1))\n",
    "print(\"-\" * 40)\n",
    "# 42 \n",
    "print(np.log10(arry1))\n",
    "print(\"-\" * 40)"
   ]
  },
  {
   "cell_type": "code",
   "execution_count": null,
   "metadata": {},
   "outputs": [],
   "source": [
    "import numpy as np\n",
    " \n",
    "aray1d = np.array([[10, 20, 30], [40, 50, 60]])\n",
    " # 43\n",
    "print(\"Mean: \", np.mean(aray1d))\n",
    " # 44\n",
    "print(\"Std: \", np.std(aray1d))\n",
    " # 45\n",
    "print(\"Var: \", np.var(aray1d))\n",
    " # 46\n",
    "print(\"Sum: \", np.sum(aray1d))\n",
    " # 47\n",
    "print(\"Prod: \", np.prod(aray1d))\n",
    " "
   ]
  },
  {
   "cell_type": "code",
   "execution_count": 8,
   "metadata": {},
   "outputs": [
    {
     "name": "stdout",
     "output_type": "stream",
     "text": [
      "[[ 2  4  6]\n",
      " [12 15 18]]\n"
     ]
    }
   ],
   "source": [
    "import numpy as np\n",
    "# 48 Useful functions for Conditional and Logical Expressions\n",
    "# The where() function is used to chooses values from arrays depending on the value of a specific condition.\n",
    "before = np.array([[1, 2, 3], [4, 5, 6]])\n",
    " \n",
    "# If element is less than 4, mul by 2 else by 3\n",
    "after = np.where(before < 4, before * 2, before * 3)\n",
    " \n",
    "print(after)"
   ]
  },
  {
   "cell_type": "code",
   "execution_count": 9,
   "metadata": {},
   "outputs": [
    {
     "name": "stdout",
     "output_type": "stream",
     "text": [
      "[[False  True  True]\n",
      " [ True  True  True]]\n",
      "------------------------------\n",
      "[[False False False]\n",
      " [False False False]]\n",
      "------------------------------\n",
      "[[False  True  True]\n",
      " [ True  True  True]]\n",
      "------------------------------\n"
     ]
    }
   ],
   "source": [
    "import numpy as np\n",
    "# logical_or computes the truth value of x1 OR x2 element-wise. \n",
    "# logical_and computes the truth value of x1 AND x2 element-wise.\n",
    "# logical_or computes the truth value of NOT x element-wise.\n",
    "thearray = np.array([[12, 21, 34], [24, 54, 76]])\n",
    " #49\n",
    "print(np.logical_or(thearray < 10, thearray > 15))\n",
    "print(\"-\" * 30)\n",
    " # 50\n",
    "print(np.logical_and(thearray < 10, thearray > 15))\n",
    "print(\"-\" * 30)\n",
    " # 51\n",
    "print(np.logical_not(thearray < 20))\n",
    "print(\"-\" * 30)"
   ]
  },
  {
   "cell_type": "code",
   "execution_count": null,
   "metadata": {},
   "outputs": [],
   "source": []
  }
 ],
 "metadata": {
  "kernelspec": {
   "display_name": "Python 3",
   "language": "python",
   "name": "python3"
  },
  "language_info": {
   "codemirror_mode": {
    "name": "ipython",
    "version": 3
   },
   "file_extension": ".py",
   "mimetype": "text/x-python",
   "name": "python",
   "nbconvert_exporter": "python",
   "pygments_lexer": "ipython3",
   "version": "3.7.6"
  }
 },
 "nbformat": 4,
 "nbformat_minor": 4
}
